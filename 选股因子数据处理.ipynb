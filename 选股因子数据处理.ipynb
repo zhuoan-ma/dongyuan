{
 "cells": [
  {
   "cell_type": "code",
   "execution_count": 1,
   "id": "7600e53b",
   "metadata": {},
   "outputs": [
    {
     "name": "stderr",
     "output_type": "stream",
     "text": [
      "/tmp/ipykernel_4293/512892657.py:33: SettingWithCopyWarning: \n",
      "A value is trying to be set on a copy of a slice from a DataFrame\n",
      "\n",
      "See the caveats in the documentation: https://pandas.pydata.org/pandas-docs/stable/user_guide/indexing.html#returning-a-view-versus-a-copy\n",
      "  factor_data1[continu_col].mask(cond, inplace=True)\n"
     ]
    }
   ],
   "source": [
    "import pandas as pd\n",
    "import numpy as np\n",
    "quant_data_path = '/home/sam/data/定增因子.xlsx'\n",
    "factor_data1 = pd.read_excel(quant_data_path, header=1)\n",
    "\n",
    "factor_data1.dropna(inplace=True)\n",
    "tmp = pd.to_datetime(factor_data1['限售股份解禁日']) - pd.to_datetime(factor_data1['发行日期'])\n",
    "factor_data1['持有天数'] = tmp.apply(lambda x:x.days)\n",
    "factor_data1['年化收益'] = factor_data1['解禁日绝对收益']*365/factor_data1['持有天数']\n",
    "factor_data1.drop(columns=['限售股份解禁日','证监会通过公告日', '最新报告期', '调整报告期', '前次报告期', '基金变化', '年度报告期1',\\\n",
    "                       '上市日期', '解禁日收盘价（定点复权）', '沪深300涨跌幅', '解禁日相对沪深300', '中证500涨跌幅',\\\n",
    "                       '解禁日相对中证500', '行业涨跌幅', '解禁日相对行业' ], inplace=True)\n",
    "\n",
    "factor_data1['发行日期'] = factor_data1['发行日期'].astype(np.string_)\n",
    "factor_data1['发行月份'] = factor_data1['发行日期'].apply(lambda x:x[:7])\n",
    "\n",
    "def standardization(quant_col_data):\n",
    "    from sklearn.preprocessing import StandardScaler\n",
    "    scaler = StandardScaler()\n",
    "    quant_factor = pd.DataFrame(scaler.fit_transform(quant_col_data),columns=quant_col_data.columns)\n",
    "    quant_factor.set_index(quant_col_data.index, inplace=True)\n",
    "    return quant_factor\n",
    "# 因2020前后因子分布不同，不对折扣率做归一\n",
    "continu_col = ['发行价格', '预计募资', '总市值', '增发占增发后自由流通市值', '发行前20日股价涨跌幅', \\\n",
    "               '行业20日涨跌幅', '发行前20日相对行业涨跌幅', '股价', '基金占比', '前次占比', '换手率', '闪发', \\\n",
    "               '净利FY0', '净利FY1', '净利FY2', '未来1年净利润增速', '未来2年净利润增速', 'PS百分位',\\\n",
    "               'PE百分位']\n",
    "factor_data1.replace('-', np.nan, inplace=True)\n",
    "factor_data1.dropna(inplace=True)\n",
    "factor_data1[continu_col] = standardization(factor_data1[continu_col])\n",
    "factor_data1['归一年化收益'] = (factor_data1['年化收益']- factor_data1['年化收益'].mean())/factor_data1['年化收益'].var()\n",
    "cond = (factor_data1[continu_col] < -3) | (factor_data1[continu_col] > 3)\n",
    "factor_data1[continu_col].mask(cond, inplace=True)"
   ]
  },
  {
   "cell_type": "code",
   "execution_count": 2,
   "id": "d1e403eb",
   "metadata": {
    "scrolled": false
   },
   "outputs": [],
   "source": [
    "factor_data2 = pd.read_excel('/home/sam/data/商业模式涉及财务指标 20221230数据版.xlsx')"
   ]
  },
  {
   "cell_type": "code",
   "execution_count": 3,
   "id": "51cb001b",
   "metadata": {},
   "outputs": [],
   "source": [
    "factor_data2.drop_duplicates(inplace=True)"
   ]
  },
  {
   "cell_type": "code",
   "execution_count": 23,
   "id": "50946ba0",
   "metadata": {},
   "outputs": [
    {
     "data": {
      "text/plain": [
       "代码                     0\n",
       "名称                     0\n",
       "发行日期                   0\n",
       "最新报告期                  0\n",
       "年度报告期1                 0\n",
       "年度报告期2                 0\n",
       "年度报告期3                 0\n",
       "总资产增速1                 0\n",
       "总资产增速2                 0\n",
       "总资产增速3                 0\n",
       "货币资金/有息负债1           158\n",
       "货币资金/有息负债2           244\n",
       "货币资金/有息负债3           274\n",
       "固定资产周转率                0\n",
       "经营性现金流净额/净利润           0\n",
       "净利润增速                  0\n",
       "净资产增速                  0\n",
       "ROE                    0\n",
       "经营性现金流增速               0\n",
       "现金收入比                  0\n",
       "存货周转率                  0\n",
       "经营杠杆系数                 0\n",
       "财务杠杆系数                43\n",
       "经营活动产生的现金流净额/营业收入      0\n",
       "投入资本回报率1               0\n",
       "投入资本回报率2               0\n",
       "投入资本回报率3               0\n",
       "研发营收比                  0\n",
       "毛利率1                   0\n",
       "毛利率2                   0\n",
       "毛利率3                   0\n",
       "毛利率波动性                 0\n",
       "毛利率变异系数               36\n",
       "成立日期                   0\n",
       "成立年数                   0\n",
       "总市值                    0\n",
       "上市日期                   0\n",
       "上市年数                   0\n",
       "经营层持股比例                0\n",
       "机构持股比例                 0\n",
       "资产专用度                  0\n",
       "ROE1                   0\n",
       "ROE2                   0\n",
       "ROE3                   0\n",
       "ROE波动率                 0\n",
       "营业收入/长期资本              0\n",
       "经营资产占比                 0\n",
       "期间费用率                  1\n",
       "dtype: int64"
      ]
     },
     "execution_count": 23,
     "metadata": {},
     "output_type": "execute_result"
    }
   ],
   "source": [
    "factor_data2.isna().sum()"
   ]
  },
  {
   "cell_type": "code",
   "execution_count": 4,
   "id": "b20ca999",
   "metadata": {},
   "outputs": [],
   "source": [
    "factor_data2.replace('-', np.nan, inplace=True)\n",
    "factor_data2['存货周转率'].replace(0, np.nan, inplace=True)\n",
    "factor_data2.dropna(inplace=True)"
   ]
  },
  {
   "cell_type": "code",
   "execution_count": 5,
   "id": "9649f00d",
   "metadata": {},
   "outputs": [],
   "source": [
    "factor_data2.drop(columns=['最新报告期', '年度报告期1', '年度报告期2', '年度报告期3', '成立日期','上市日期'], inplace=True)"
   ]
  },
  {
   "cell_type": "code",
   "execution_count": 6,
   "id": "d6c0b658",
   "metadata": {},
   "outputs": [
    {
     "data": {
      "text/html": [
       "<div>\n",
       "<style scoped>\n",
       "    .dataframe tbody tr th:only-of-type {\n",
       "        vertical-align: middle;\n",
       "    }\n",
       "\n",
       "    .dataframe tbody tr th {\n",
       "        vertical-align: top;\n",
       "    }\n",
       "\n",
       "    .dataframe thead th {\n",
       "        text-align: right;\n",
       "    }\n",
       "</style>\n",
       "<table border=\"1\" class=\"dataframe\">\n",
       "  <thead>\n",
       "    <tr style=\"text-align: right;\">\n",
       "      <th></th>\n",
       "      <th>代码</th>\n",
       "      <th>名称</th>\n",
       "      <th>发行日期</th>\n",
       "      <th>总资产增速1</th>\n",
       "      <th>总资产增速2</th>\n",
       "      <th>总资产增速3</th>\n",
       "      <th>货币资金/有息负债1</th>\n",
       "      <th>货币资金/有息负债2</th>\n",
       "      <th>货币资金/有息负债3</th>\n",
       "      <th>固定资产周转率</th>\n",
       "      <th>...</th>\n",
       "      <th>经营层持股比例</th>\n",
       "      <th>机构持股比例</th>\n",
       "      <th>资产专用度</th>\n",
       "      <th>ROE1</th>\n",
       "      <th>ROE2</th>\n",
       "      <th>ROE3</th>\n",
       "      <th>ROE波动率</th>\n",
       "      <th>营业收入/长期资本</th>\n",
       "      <th>经营资产占比</th>\n",
       "      <th>期间费用率</th>\n",
       "    </tr>\n",
       "  </thead>\n",
       "  <tbody>\n",
       "    <tr>\n",
       "      <th>0</th>\n",
       "      <td>002068.SZ</td>\n",
       "      <td>黑猫股份</td>\n",
       "      <td>2011-01-17</td>\n",
       "      <td>0.292056</td>\n",
       "      <td>0.141513</td>\n",
       "      <td>0.196053</td>\n",
       "      <td>0.248628</td>\n",
       "      <td>0.439818</td>\n",
       "      <td>0.387665</td>\n",
       "      <td>2.4298</td>\n",
       "      <td>...</td>\n",
       "      <td>0.5602</td>\n",
       "      <td>0.779193</td>\n",
       "      <td>0.527701</td>\n",
       "      <td>0.142393</td>\n",
       "      <td>0.005669</td>\n",
       "      <td>0.155255</td>\n",
       "      <td>0.067688</td>\n",
       "      <td>1.250501</td>\n",
       "      <td>0.713355</td>\n",
       "      <td>0.127544</td>\n",
       "    </tr>\n",
       "    <tr>\n",
       "      <th>1</th>\n",
       "      <td>600290.SH</td>\n",
       "      <td>ST华仪</td>\n",
       "      <td>2011-01-18</td>\n",
       "      <td>0.573605</td>\n",
       "      <td>0.328553</td>\n",
       "      <td>0.516398</td>\n",
       "      <td>1.148958</td>\n",
       "      <td>0.347032</td>\n",
       "      <td>0.775027</td>\n",
       "      <td>15.3691</td>\n",
       "      <td>...</td>\n",
       "      <td>0.4569</td>\n",
       "      <td>0.039934</td>\n",
       "      <td>0.121788</td>\n",
       "      <td>0.144903</td>\n",
       "      <td>0.200943</td>\n",
       "      <td>0.251324</td>\n",
       "      <td>0.043467</td>\n",
       "      <td>1.121999</td>\n",
       "      <td>0.486928</td>\n",
       "      <td>0.103485</td>\n",
       "    </tr>\n",
       "  </tbody>\n",
       "</table>\n",
       "<p>2 rows × 42 columns</p>\n",
       "</div>"
      ],
      "text/plain": [
       "          代码    名称       发行日期    总资产增速1    总资产增速2    总资产增速3  货币资金/有息负债1  \\\n",
       "0  002068.SZ  黑猫股份 2011-01-17  0.292056  0.141513  0.196053    0.248628   \n",
       "1  600290.SH  ST华仪 2011-01-18  0.573605  0.328553  0.516398    1.148958   \n",
       "\n",
       "   货币资金/有息负债2  货币资金/有息负债3  固定资产周转率  ...  经营层持股比例    机构持股比例     资产专用度  \\\n",
       "0    0.439818    0.387665   2.4298  ...   0.5602  0.779193  0.527701   \n",
       "1    0.347032    0.775027  15.3691  ...   0.4569  0.039934  0.121788   \n",
       "\n",
       "       ROE1      ROE2      ROE3    ROE波动率  营业收入/长期资本    经营资产占比     期间费用率  \n",
       "0  0.142393  0.005669  0.155255  0.067688   1.250501  0.713355  0.127544  \n",
       "1  0.144903  0.200943  0.251324  0.043467   1.121999  0.486928  0.103485  \n",
       "\n",
       "[2 rows x 42 columns]"
      ]
     },
     "execution_count": 6,
     "metadata": {},
     "output_type": "execute_result"
    }
   ],
   "source": [
    "non_ratio = set(['代码', '名称', '发行日期','固定资产周转率', '现金收入比', '存货周转率', '经营杠杆系数', '财务杠杆系数',\\\n",
    "             '经营活动产生的现金流净额/营业收入', '成立年数', '总市值', '上市年数', '营业收入/长期资本'])\n",
    "for c in factor_data2.columns:\n",
    "    if c not in non_ratio:\n",
    "        factor_data2[c].astype(np.float64)\n",
    "factor_data2.head(2)"
   ]
  },
  {
   "cell_type": "code",
   "execution_count": 7,
   "id": "3630c531",
   "metadata": {},
   "outputs": [
    {
     "name": "stderr",
     "output_type": "stream",
     "text": [
      "/tmp/ipykernel_4293/2598108437.py:4: SettingWithCopyWarning: \n",
      "A value is trying to be set on a copy of a slice from a DataFrame\n",
      "\n",
      "See the caveats in the documentation: https://pandas.pydata.org/pandas-docs/stable/user_guide/indexing.html#returning-a-view-versus-a-copy\n",
      "  factor_data2[continu_col].mask(cond, inplace=True)\n"
     ]
    }
   ],
   "source": [
    "continu_col = factor_data2.columns[3:]\n",
    "factor_data2[continu_col] = standardization(factor_data2[continu_col])\n",
    "cond = (factor_data2[continu_col] < -3) | (factor_data2[continu_col] > 3)\n",
    "factor_data2[continu_col].mask(cond, inplace=True)"
   ]
  },
  {
   "cell_type": "code",
   "execution_count": 8,
   "id": "f4e50b65",
   "metadata": {},
   "outputs": [],
   "source": [
    "factor_data1.dropna(inplace=True)\n",
    "factor_data1.drop_duplicates(inplace=True)"
   ]
  },
  {
   "cell_type": "code",
   "execution_count": 29,
   "id": "bbd1ac0d",
   "metadata": {
    "scrolled": true
   },
   "outputs": [
    {
     "data": {
      "text/html": [
       "<div>\n",
       "<style scoped>\n",
       "    .dataframe tbody tr th:only-of-type {\n",
       "        vertical-align: middle;\n",
       "    }\n",
       "\n",
       "    .dataframe tbody tr th {\n",
       "        vertical-align: top;\n",
       "    }\n",
       "\n",
       "    .dataframe thead th {\n",
       "        text-align: right;\n",
       "    }\n",
       "</style>\n",
       "<table border=\"1\" class=\"dataframe\">\n",
       "  <thead>\n",
       "    <tr style=\"text-align: right;\">\n",
       "      <th></th>\n",
       "      <th>代码</th>\n",
       "      <th>名称</th>\n",
       "      <th>发行日期</th>\n",
       "      <th>发行价格</th>\n",
       "      <th>预计募资</th>\n",
       "      <th>增发目的</th>\n",
       "      <th>发行对象</th>\n",
       "      <th>折扣率</th>\n",
       "      <th>总市值</th>\n",
       "      <th>增发占增发后自由流通市值</th>\n",
       "      <th>...</th>\n",
       "      <th>未来1年净利润增速</th>\n",
       "      <th>未来2年净利润增速</th>\n",
       "      <th>PS百分位</th>\n",
       "      <th>PE百分位</th>\n",
       "      <th>大股东是否跟投</th>\n",
       "      <th>解禁日绝对收益</th>\n",
       "      <th>持有天数</th>\n",
       "      <th>年化收益</th>\n",
       "      <th>发行月份</th>\n",
       "      <th>归一年化收益</th>\n",
       "    </tr>\n",
       "  </thead>\n",
       "  <tbody>\n",
       "    <tr>\n",
       "      <th>0</th>\n",
       "      <td>002068.SZ</td>\n",
       "      <td>黑猫股份</td>\n",
       "      <td>2011-01-17</td>\n",
       "      <td>-0.380540</td>\n",
       "      <td>-0.483031</td>\n",
       "      <td>项目融资</td>\n",
       "      <td>机构投资者</td>\n",
       "      <td>-0.182089</td>\n",
       "      <td>-0.530789</td>\n",
       "      <td>0.830084</td>\n",
       "      <td>...</td>\n",
       "      <td>-0.136906</td>\n",
       "      <td>-0.108379</td>\n",
       "      <td>-0.769858</td>\n",
       "      <td>0.469299</td>\n",
       "      <td>否</td>\n",
       "      <td>0.135701</td>\n",
       "      <td>395</td>\n",
       "      <td>0.125394</td>\n",
       "      <td>2011-01</td>\n",
       "      <td>-0.157014</td>\n",
       "    </tr>\n",
       "    <tr>\n",
       "      <th>1</th>\n",
       "      <td>600290.SH</td>\n",
       "      <td>ST华仪</td>\n",
       "      <td>2011-01-18</td>\n",
       "      <td>-0.300155</td>\n",
       "      <td>-0.358242</td>\n",
       "      <td>项目融资</td>\n",
       "      <td>大股东,机构投资者,境内自然人</td>\n",
       "      <td>0.632735</td>\n",
       "      <td>-0.482912</td>\n",
       "      <td>0.370027</td>\n",
       "      <td>...</td>\n",
       "      <td>-0.098737</td>\n",
       "      <td>-0.111949</td>\n",
       "      <td>-1.239744</td>\n",
       "      <td>-1.053054</td>\n",
       "      <td>是</td>\n",
       "      <td>-0.125072</td>\n",
       "      <td>377</td>\n",
       "      <td>-0.121091</td>\n",
       "      <td>2011-01</td>\n",
       "      <td>-0.730488</td>\n",
       "    </tr>\n",
       "  </tbody>\n",
       "</table>\n",
       "<p>2 rows × 33 columns</p>\n",
       "</div>"
      ],
      "text/plain": [
       "          代码    名称        发行日期      发行价格      预计募资  增发目的             发行对象  \\\n",
       "0  002068.SZ  黑猫股份  2011-01-17 -0.380540 -0.483031  项目融资            机构投资者   \n",
       "1  600290.SH  ST华仪  2011-01-18 -0.300155 -0.358242  项目融资  大股东,机构投资者,境内自然人   \n",
       "\n",
       "        折扣率       总市值  增发占增发后自由流通市值  ...  未来1年净利润增速 未来2年净利润增速     PS百分位  \\\n",
       "0 -0.182089 -0.530789      0.830084  ...  -0.136906 -0.108379 -0.769858   \n",
       "1  0.632735 -0.482912      0.370027  ...  -0.098737 -0.111949 -1.239744   \n",
       "\n",
       "      PE百分位  大股东是否跟投   解禁日绝对收益  持有天数      年化收益     发行月份    归一年化收益  \n",
       "0  0.469299        否  0.135701   395  0.125394  2011-01 -0.157014  \n",
       "1 -1.053054        是 -0.125072   377 -0.121091  2011-01 -0.730488  \n",
       "\n",
       "[2 rows x 33 columns]"
      ]
     },
     "execution_count": 29,
     "metadata": {},
     "output_type": "execute_result"
    }
   ],
   "source": [
    "factor_data1.head(2)"
   ]
  },
  {
   "cell_type": "code",
   "execution_count": 30,
   "id": "8203b758",
   "metadata": {},
   "outputs": [
    {
     "name": "stdout",
     "output_type": "stream",
     "text": [
      "(1721, 33)\n",
      "(1750, 42)\n"
     ]
    }
   ],
   "source": [
    "print(factor_data1.shape)\n",
    "print(factor_data2.shape)"
   ]
  },
  {
   "cell_type": "code",
   "execution_count": 31,
   "id": "91637160",
   "metadata": {},
   "outputs": [],
   "source": [
    "for i in range(len(factor_data1)):\n",
    "    if not factor_data1.iloc[i]['代码'] == factor_data1.iloc[i]['代码']:\n",
    "        print(factor_data1.iloc[i]['代码'])"
   ]
  },
  {
   "cell_type": "code",
   "execution_count": 9,
   "id": "3797cdca",
   "metadata": {},
   "outputs": [],
   "source": [
    "factor_data2.drop(columns=['代码', '名称', '发行日期'], inplace=True)"
   ]
  },
  {
   "cell_type": "code",
   "execution_count": 10,
   "id": "b64237cc",
   "metadata": {},
   "outputs": [],
   "source": [
    "factor_data2.index = range(factor_data2.shape[0])\n",
    "factor_data1.index = range(factor_data1.shape[0])"
   ]
  },
  {
   "cell_type": "code",
   "execution_count": 11,
   "id": "bc93312e",
   "metadata": {},
   "outputs": [],
   "source": [
    "factor_data = pd.concat([factor_data1, factor_data2[:1721]], axis=1)"
   ]
  },
  {
   "cell_type": "code",
   "execution_count": 12,
   "id": "3fb86ee2",
   "metadata": {},
   "outputs": [],
   "source": [
    "factor_data.to_csv('factor_data.csv', index=False)"
   ]
  },
  {
   "cell_type": "code",
   "execution_count": 13,
   "id": "08add26e",
   "metadata": {},
   "outputs": [
    {
     "name": "stdout",
     "output_type": "stream",
     "text": [
      "1345\n"
     ]
    }
   ],
   "source": [
    "from datetime import datetime\n",
    "start = datetime.strptime('2020-08-10','%Y-%m-%d')\n",
    "print(factor_data[pd.to_datetime(factor_data['发行日期']) > start].index[0])"
   ]
  },
  {
   "cell_type": "code",
   "execution_count": 14,
   "id": "5c293c9a",
   "metadata": {},
   "outputs": [],
   "source": [
    "train_data = factor_data.loc[:1345]\n",
    "test_data = factor_data.loc[1345:]\n",
    "train_data.to_csv('train_data.csv', index=False)\n",
    "test_data.to_csv('test_data.csv',index=False)"
   ]
  },
  {
   "cell_type": "code",
   "execution_count": null,
   "id": "d6325ad7",
   "metadata": {},
   "outputs": [],
   "source": []
  }
 ],
 "metadata": {
  "kernelspec": {
   "display_name": "Python [conda env:quant] *",
   "language": "python",
   "name": "conda-env-quant-py"
  },
  "language_info": {
   "codemirror_mode": {
    "name": "ipython",
    "version": 3
   },
   "file_extension": ".py",
   "mimetype": "text/x-python",
   "name": "python",
   "nbconvert_exporter": "python",
   "pygments_lexer": "ipython3",
   "version": "3.9.15"
  }
 },
 "nbformat": 4,
 "nbformat_minor": 5
}
