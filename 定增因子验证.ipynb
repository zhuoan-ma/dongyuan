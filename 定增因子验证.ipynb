{
 "cells": [
  {
   "cell_type": "code",
   "execution_count": 1,
   "id": "dc6ddb00",
   "metadata": {},
   "outputs": [
    {
     "name": "stderr",
     "output_type": "stream",
     "text": [
      "/home/sam/anaconda3/envs/quant/lib/python3.9/site-packages/xgboost/compat.py:36: FutureWarning: pandas.Int64Index is deprecated and will be removed from pandas in a future version. Use pandas.Index with the appropriate dtype instead.\n",
      "  from pandas import MultiIndex, Int64Index\n"
     ]
    }
   ],
   "source": [
    "import pandas as  pd\n",
    "import numpy as np\n",
    "import seaborn as sns\n",
    "import matplotlib.pyplot as plt\n",
    "from functools import partial\n",
    "import statsmodels.api as sm\n",
    "from statsmodels.formula.api import ols\n",
    "from statsmodels.stats.outliers_influence import summary_table\n",
    "from sklearn.model_selection import train_test_split\n",
    "from sklearn.ensemble import RandomForestRegressor\n",
    "from sklearn.metrics import r2_score\n",
    "import xgboost\n",
    "import shap\n",
    "import lightgbm as lgb\n",
    "plt.rcParams['font.sans-serif']=['SimHei']\n",
    "plt.rcParams['axes.unicode_minus']=False\n",
    "plt.rcParams[\"figure.autolayout\"]=True"
   ]
  },
  {
   "cell_type": "code",
   "execution_count": 2,
   "id": "ed30f314",
   "metadata": {},
   "outputs": [],
   "source": [
    "raw_data = pd.read_excel('/home/sam/data/定增因子.xlsx',header=1,index_col=0)"
   ]
  },
  {
   "cell_type": "code",
   "execution_count": 3,
   "id": "2c448d72",
   "metadata": {},
   "outputs": [],
   "source": [
    "def tradedays(start,end):\n",
    "    # 计算两个日期间交易日数量， start、end为日期字符串\n",
    "    from datetime import datetime,timedelta\n",
    "    from chinese_calendar import is_holiday\n",
    "    start = datetime.strptime(start,'%Y-%m-%d %H:%M:%S').date()\n",
    "    end = datetime.strptime(end,'%Y-%m-%d %H:%M:%S').date()\n",
    "    if start > end:\n",
    "        start,end = end,start\n",
    "    counts = 0\n",
    "    while True:\n",
    "        if start > end:\n",
    "            break\n",
    "        if is_holiday(start) or start.weekday()==5 or start.weekday()==6:\n",
    "            start += timedelta(days=1)\n",
    "            continue\n",
    "        counts += 1\n",
    "        start += timedelta(days=1)\n",
    "    return counts"
   ]
  },
  {
   "cell_type": "code",
   "execution_count": 4,
   "id": "2c2a6855",
   "metadata": {
    "scrolled": true
   },
   "outputs": [],
   "source": [
    "x = raw_data[['发行日期','限售股份解禁日']].applymap(str)"
   ]
  },
  {
   "cell_type": "code",
   "execution_count": 5,
   "id": "a5298592",
   "metadata": {},
   "outputs": [],
   "source": [
    "raw_data['持有交易日'] = x.apply(lambda a:tradedays(a['发行日期'], a['限售股份解禁日']), axis=1)"
   ]
  },
  {
   "cell_type": "code",
   "execution_count": 6,
   "id": "72051ee0",
   "metadata": {},
   "outputs": [],
   "source": [
    "# 计算年化收益率\n",
    "raw_data['年化收益率'] = raw_data['解禁日绝对收益']/raw_data['持有交易日']*252"
   ]
  },
  {
   "cell_type": "code",
   "execution_count": null,
   "id": "5f02382c",
   "metadata": {},
   "outputs": [],
   "source": [
    "raw_data1 = raw_data[:1100].copy()\n",
    "raw_data2 = raw_data[1100:1540].copy()\n",
    "raw_data3 = raw_data[1540:].copy()"
   ]
  },
  {
   "cell_type": "code",
   "execution_count": null,
   "id": "4e7857a2",
   "metadata": {},
   "outputs": [],
   "source": [
    "raw_data_before_2020 = raw_data[:1540].copy()\n",
    "raw_data_after_2020 = raw_data[1540:].copy()"
   ]
  },
  {
   "cell_type": "code",
   "execution_count": 11,
   "id": "47a8836d",
   "metadata": {},
   "outputs": [],
   "source": [
    "raw_data['发行日期'] = raw_data['发行日期'].astype(np.string_)\n",
    "raw_data['发行月份'] = raw_data['发行日期'].apply(lambda x:x[5:7])\n",
    "raw_data['发行月份'] = raw_data['发行月份'].astype('category')\n",
    "raw_data['所属行业'] = raw_data['所属行业'].astype('category')"
   ]
  },
  {
   "cell_type": "code",
   "execution_count": null,
   "id": "f9a175d3",
   "metadata": {},
   "outputs": [],
   "source": [
    "raw_data_before_2020['发行日期'] = raw_data_before_2020['发行日期'].astype(np.string_)\n",
    "raw_data_before_2020['发行月份'] = raw_data_before_2020['发行日期'].apply(lambda x:x[5:7])\n",
    "raw_data_after_2020['发行日期'] = raw_data_after_2020['发行日期'].astype(np.string_)\n",
    "raw_data_after_2020['发行月份'] = raw_data_after_2020['发行日期'].apply(lambda x:x[5:7])"
   ]
  },
  {
   "cell_type": "code",
   "execution_count": 17,
   "id": "253f6ea6",
   "metadata": {},
   "outputs": [],
   "source": [
    "QUANT_FACTOR = ['发行价格','预计募资','增发占增发后自由流通市值','发行前20日股价涨跌幅',\\\n",
    "                '行业20日涨跌幅','股价','基金占比','前次占比','换手率','净利FY0','PS百分位','PE百分位',\\\n",
    "                '闪发','净利FY1','净利FY2','总市值']\n",
    "CLASS_FACTOR = ['发行月份', '所属行业']\n",
    "RETURN = ['年化收益率']"
   ]
  },
  {
   "cell_type": "code",
   "execution_count": 13,
   "id": "9027d51e",
   "metadata": {},
   "outputs": [],
   "source": [
    "def preprocess(raw_data,QUANT_FACTOR, RETURN, CLASS_FACTOR):\n",
    "    dataset = raw_data[QUANT_FACTOR+RETURN+CLASS_FACTOR].copy()\n",
    "    dataset.replace('-', np.nan, inplace=True)\n",
    "    data = dataset.dropna(axis=0)\n",
    "    quant_factor = standardization(data[QUANT_FACTOR])\n",
    "    return_metric = standardization(data[RETURN])\n",
    "    class_label = data[CLASS_FACTOR].copy()\n",
    "    #quant_factor = market_value_neutralization(quant_factor)\n",
    "    #quant_factor = schmit_orthogonalization(quant_factor)\n",
    "    #onehot = onehot_encoder(data[CLASS_FACTOR])\n",
    "    #obj_data = data['发行对象'].apply(obj_string_to_value)\n",
    "    preprocessed_data = pd.concat([quant_factor, return_metric, class_label], axis=1)\n",
    "    cond = (preprocessed_data[QUANT_FACTOR+RETURN] < -3) | (preprocessed_data[QUANT_FACTOR+RETURN] > 3)\n",
    "    preprocessed_data[RETURN+QUANT_FACTOR].mask(cond, inplace=True)\n",
    "    #for r in RETURN_NAME+QUANT_FACTOR:\n",
    "        #preprocessed_data = preprocessed_data[(preprocessed_data[r] > -3) & (preprocessed_data[r] < 3)]\n",
    "    return preprocessed_data\n",
    "\n",
    "#标准化为Z_score\n",
    "def standardization(quant_col_data):\n",
    "    from sklearn.preprocessing import StandardScaler\n",
    "    scaler = StandardScaler()\n",
    "    quant_factor = pd.DataFrame(scaler.fit_transform(quant_col_data),columns=quant_col_data.columns)\n",
    "    quant_factor.set_index(quant_col_data.index, inplace=True)\n",
    "    return quant_factor\n",
    "\n",
    "#定量因子的市值中性化\n",
    "#有schmit正交化好像不用中性化\n",
    "def market_value_neutralization(quant_factor):\n",
    "    from sklearn.linear_model import LinearRegression\n",
    "    lr = LinearRegression()\n",
    "    X = quant_factor['总市值'].values.reshape(-1, 1)\n",
    "    for f in quant_factor.columns:\n",
    "        y = quant_factor[f]\n",
    "        lr.fit(X, y)\n",
    "        y_pred = lr.predict(X)\n",
    "        quant_factor[f] = y - y_pred\n",
    "    quant_factor.drop(['总市值'], axis=1, inplace=True)\n",
    "    QUANT_FACTOR.remove('总市值')\n",
    "    return quant_factor\n",
    "\n",
    "def onehot_encoder(class_col_data):\n",
    "    onehot = pd.get_dummies(class_col_data.loc[:,CLASS_FACTOR], prefix_sep=\"\", columns=CLASS_FACTOR)\n",
    "    return onehot"
   ]
  },
  {
   "cell_type": "code",
   "execution_count": 15,
   "id": "868a0231",
   "metadata": {},
   "outputs": [
    {
     "name": "stderr",
     "output_type": "stream",
     "text": [
      "\n",
      "A value is trying to be set on a copy of a slice from a DataFrame\n",
      "\n",
      "See the caveats in the documentation: https://pandas.pydata.org/pandas-docs/stable/user_guide/indexing.html#returning-a-view-versus-a-copy\n"
     ]
    }
   ],
   "source": [
    "df = preprocess(raw_data,QUANT_FACTOR, RETURN,CLASS_FACTOR)"
   ]
  },
  {
   "cell_type": "code",
   "execution_count": null,
   "id": "8985c349",
   "metadata": {},
   "outputs": [],
   "source": [
    "df1 = preprocess(raw_data1,QUANT_FACTOR, RETURN,CLASS_FACTOR)\n",
    "df2 = preprocess(raw_data2,QUANT_FACTOR, RETURN,CLASS_FACTOR)\n",
    "df3 = preprocess(raw_data3,QUANT_FACTOR, RETURN,CLASS_FACTOR)"
   ]
  },
  {
   "cell_type": "code",
   "execution_count": null,
   "id": "c6f95c1f",
   "metadata": {
    "scrolled": true
   },
   "outputs": [],
   "source": [
    "data_before_2020 = preprocess(raw_data_before_2020, QUANT_FACTOR, RETURN,CLASS_FACTOR)\n",
    "data_after_2020 = preprocess(raw_data_after_2020, QUANT_FACTOR, RETURN, CLASS_FACTOR)\n",
    "#preprocessed_data.to_csv('preprocessed_data.csv', index=True)"
   ]
  },
  {
   "cell_type": "code",
   "execution_count": null,
   "id": "d67d6a9b",
   "metadata": {},
   "outputs": [],
   "source": [
    "df.to_csv('clean_continuous_data.csv', index=True)\n",
    "df1.to_csv('clean_continuous_data_2011_2017.csv', index=True)\n",
    "df2.to_csv('clean_continuous_data_2017_2020.csv', index=True)\n",
    "df3.to_csv('clean_continuous_data_2020_today.csv', index=True)"
   ]
  },
  {
   "cell_type": "code",
   "execution_count": null,
   "id": "497a0ae7",
   "metadata": {},
   "outputs": [],
   "source": [
    "data_before_2020.to_csv('data_before_2020.csv')\n",
    "data_after_2020.to_csv('data_after_2020.csv')"
   ]
  },
  {
   "cell_type": "code",
   "execution_count": null,
   "id": "d790e4fc",
   "metadata": {},
   "outputs": [],
   "source": [
    "#读取干净数据\n",
    "QUANT_FACTOR = ['发行价格','预计募资','折扣率','增发占增发后自由流通市值','发行前20日股价涨跌幅',\\\n",
    "            '行业20日涨跌幅','股价','基金占比','前次占比','换手率','净利FY0','PS百分位','PE百分位','闪发','净利FY1','净利FY2','总市值']\n",
    "RETURN = ['年化收益率']\n",
    "CLASS_FACTOR = ['发行月份', '所属行业']"
   ]
  },
  {
   "cell_type": "code",
   "execution_count": null,
   "id": "78803709",
   "metadata": {},
   "outputs": [],
   "source": [
    "df1 = pd.read_csv('clean_continuous_data_2011_2017.csv', index_col=0, header=0)\n",
    "df2 = pd.read_csv('clean_continuous_data_2017_2020.csv', index_col=0, header=0)\n",
    "df3 = pd.read_csv('clean_continuous_data_2020_today.csv', index_col=0, header=0)"
   ]
  },
  {
   "cell_type": "code",
   "execution_count": null,
   "id": "ed904e06",
   "metadata": {
    "scrolled": true
   },
   "outputs": [],
   "source": [
    "N = 20\n",
    "quantile_tmp = pd.qcut(df['年化收益率'],N,labels=np.arange(0,N)) \n",
    "quantile_mean = df.groupby(quantile_tmp).mean()\n",
    "\n",
    "fig, ax =plt.subplots(len(QUANT_FACTOR),1, constrained_layout=True, figsize=(9, 20))\n",
    "for i in range(len(QUANT_FACTOR)):\n",
    "    axesSub = sns.lineplot(data=quantile_mean[QUANT_FACTOR[i]], legend='brief', ax=ax[i])"
   ]
  },
  {
   "cell_type": "code",
   "execution_count": null,
   "id": "ae12e037",
   "metadata": {
    "scrolled": true
   },
   "outputs": [],
   "source": [
    "fig, ax =plt.subplots(3,1, constrained_layout=True, figsize=(9, 13))\n",
    "factor_list = ['折扣率', '增发占增发后自由流通市值', '发行前20日股价涨跌幅', '行业20日涨跌幅',  '基金占比']\n",
    "for i in range(len(factor_list)):\n",
    "    axesSub = sns.lineplot(data=quantile_mean[factor_list[i]], legend='brief', ax=ax[i])"
   ]
  },
  {
   "cell_type": "code",
   "execution_count": null,
   "id": "fc12d53d",
   "metadata": {},
   "outputs": [],
   "source": [
    "factor_list = ['折扣率', '发行前20日股价涨跌幅', '行业20日涨跌幅',  '基金占比']"
   ]
  },
  {
   "cell_type": "code",
   "execution_count": null,
   "id": "9fbffdd1",
   "metadata": {},
   "outputs": [],
   "source": [
    "sns.lineplot(data=quantile_mean[factor_list], legend='brief')"
   ]
  },
  {
   "cell_type": "markdown",
   "id": "afb537e0",
   "metadata": {},
   "source": [
    "# 相关性分析"
   ]
  },
  {
   "cell_type": "code",
   "execution_count": 18,
   "id": "c63c7bcb",
   "metadata": {
    "scrolled": false
   },
   "outputs": [
    {
     "name": "stderr",
     "output_type": "stream",
     "text": [
      "The input array could not be properly checked for nan values. nan values will be ignored.\n"
     ]
    },
    {
     "data": {
      "text/plain": [
       "<AxesSubplot:>"
      ]
     },
     "execution_count": 18,
     "metadata": {},
     "output_type": "execute_result"
    },
    {
     "data": {
      "image/png": "[encoded data removed]",
      "text/plain": [
       "<Figure size 900x700 with 1 Axes>"
      ]
     },
     "metadata": {},
     "output_type": "display_data"
    }
   ],
   "source": [
    "factor_corr = list()\n",
    "for f in QUANT_FACTOR+CLASS_FACTOR:\n",
    "    c = df[f].corr(df['年化收益率'],method='spearman')\n",
    "    factor_corr.append(c)\n",
    "corr_df = pd.DataFrame(np.asarray(factor_corr), index=QUANT_FACTOR+CLASS_FACTOR, columns=['年化收益率'])\n",
    "corr_df.sort_values(by=['年化收益率'],inplace=True)\n",
    "corr_df.plot(kind='barh', figsize=(9, 7))"
   ]
  },
  {
   "cell_type": "code",
   "execution_count": null,
   "id": "35ee745a",
   "metadata": {},
   "outputs": [],
   "source": [
    "#施密特正交化\n",
    "def schmit_orthogonalization(quant_factor):\n",
    "    M = (quant_factor.shape[0]-1)*np.cov(quant_factor.T.astype(float))\n",
    "    D,U = np.linalg.eig(M)\n",
    "    U = np.mat(U)\n",
    "    d = np.mat(np.diag(D**(-0.5)))\n",
    "    S = U*d*U.T\n",
    "    ortho_factor_mat = np.mat(quant_factor)*S\n",
    "    ortho_factor = pd.DataFrame(ortho_factor_mat, columns=quant_factor.columns,index = quant_factor.index)\n",
    "    return ortho_factor"
   ]
  },
  {
   "cell_type": "code",
   "execution_count": null,
   "id": "af60246a",
   "metadata": {},
   "outputs": [],
   "source": [
    "# 线性回归因子重要性分析\n",
    "cols = ['发行价格','预计募资','折扣率','增发占增发后自由流通市值','发行前20日股价涨跌幅',\\\n",
    "                '行业20日涨跌幅','股价','基金占比','前次占比','换手率','净利FY0','PS百分位','PE百分位',\\\n",
    "                '闪发','净利FY1','净利FY2','总市值', '年化收益率']\n",
    "\n",
    "# 机器学习模型的训练集与预测集划分\n",
    "y = df['年化收益率']\n",
    "cols.pop()\n",
    "X = df[cols]"
   ]
  },
  {
   "cell_type": "code",
   "execution_count": null,
   "id": "349202d5",
   "metadata": {},
   "outputs": [],
   "source": [
    "X_train, X_test, y_train, y_test = train_test_split(X, y, test_size=0.1, random_state=1)"
   ]
  },
  {
   "cell_type": "code",
   "execution_count": null,
   "id": "786af70c",
   "metadata": {
    "scrolled": false
   },
   "outputs": [],
   "source": [
    "X = sm.add_constant(X)\n",
    "linear_model = sm.OLS(y, X)\n",
    "linear_model.fit().summary()"
   ]
  },
  {
   "cell_type": "code",
   "execution_count": null,
   "id": "7e92201d",
   "metadata": {},
   "outputs": [],
   "source": [
    "from sklearn.tree import DecisionTreeRegressor\n",
    "model = DecisionTreeRegressor(random_state=0)\n",
    "model.fit(X_train, y_train)\n",
    "model.score(X_test,y_test)"
   ]
  },
  {
   "cell_type": "code",
   "execution_count": null,
   "id": "d53511d4",
   "metadata": {},
   "outputs": [],
   "source": [
    "mean_pred = pd.Series([np.mean(y_train)]*y_test.shape[0])"
   ]
  },
  {
   "cell_type": "code",
   "execution_count": null,
   "id": "e8f4f7e8",
   "metadata": {},
   "outputs": [],
   "source": [
    "rand_pred = pd.Series(np.random.randn(y_test.shape[0]))"
   ]
  },
  {
   "cell_type": "code",
   "execution_count": null,
   "id": "469209eb",
   "metadata": {},
   "outputs": [],
   "source": [
    "y_pred = model.predict(X_test)"
   ]
  },
  {
   "cell_type": "code",
   "execution_count": null,
   "id": "75163809",
   "metadata": {},
   "outputs": [],
   "source": [
    "from sklearn.metrics import r2_score, mean_squared_error"
   ]
  },
  {
   "cell_type": "code",
   "execution_count": null,
   "id": "a9a7763a",
   "metadata": {},
   "outputs": [],
   "source": [
    "print('MSE of mean prediction and true values:{0:.3f}'.format(mean_squared_error(mean_pred, y_test)))\n",
    "print('MSE of random prediction and true values:{0:.3f}'.format(mean_squared_error(rand_pred, y_test)))\n",
    "print('MSE of DT prediction and true values:{0:.3f}'.format(mean_squared_error(y_pred, y_test)))"
   ]
  },
  {
   "cell_type": "code",
   "execution_count": null,
   "id": "51cebbd0",
   "metadata": {},
   "outputs": [],
   "source": [
    "# 线性回归因子重要性分析\n",
    "cols = ['发行价格','预计募资','折扣率','增发占增发后自由流通市值','发行前20日股价涨跌幅',\\\n",
    "                '行业20日涨跌幅','股价','基金占比','前次占比','换手率','净利FY0','PS百分位','PE百分位',\\\n",
    "                '闪发','净利FY1','净利FY2','总市值', '年化收益率']\n",
    "# 机器学习模型的训练集与预测集划分\n",
    "y = df3['年化收益率']\n",
    "cols.pop()\n",
    "X = df3[cols]"
   ]
  },
  {
   "cell_type": "code",
   "execution_count": null,
   "id": "136c800a",
   "metadata": {},
   "outputs": [],
   "source": [
    "from sklearn.tree import DecisionTreeRegressor\n",
    "model = DecisionTreeRegressor(random_state=0)\n",
    "model.fit(X, y)"
   ]
  },
  {
   "cell_type": "code",
   "execution_count": null,
   "id": "9c927168",
   "metadata": {},
   "outputs": [],
   "source": [
    "N_fold = 10\n",
    "importances = np.zeros((17,))\n",
    "for i in range(N_fold):\n",
    "    X_train, X_test, y_train, y_test = train_test_split(X, y, test_size=0.1)\n",
    "    model.fit(X_train, y_train)\n",
    "    importances = model.feature_importances_ + importances\n",
    "importances = importances/N_fold\n",
    "\n",
    "indices = np.argsort(importances)\n",
    "fig, ax = plt.subplots()\n",
    "ax.barh(range(len(importances)), importances[indices])\n",
    "ax.set_yticks(range(len(importances)))\n",
    "_ = ax.set_yticklabels(np.array(X.columns)[indices])"
   ]
  },
  {
   "cell_type": "code",
   "execution_count": null,
   "id": "6da95e92",
   "metadata": {
    "scrolled": true
   },
   "outputs": [],
   "source": [
    "# 线性回归因子重要性分析\n",
    "cols = ['发行价格','预计募资','折扣率','增发占增发后自由流通市值','发行前20日股价涨跌幅',\\\n",
    "                '行业20日涨跌幅','股价','基金占比','前次占比','换手率','净利FY0','PS百分位','PE百分位',\\\n",
    "                '闪发','净利FY1','净利FY2','总市值', '年化收益率']\n",
    "# 机器学习模型的训练集与预测集划分\n",
    "y = df['年化收益率']\n",
    "cols.pop()\n",
    "X = df[cols]\n",
    "X_train, X_test, y_train, y_test = train_test_split(X, y, test_size=0.1)\n",
    "lgb_train = lgb.Dataset(X_train, y_train)\n",
    "lgb_eval = lgb.Dataset(X_test, y_test, reference=lgb_train)\n",
    "params = {\n",
    "    'task': 'train',\n",
    "    'boosting_type': 'goss',  # 设置提升类型\n",
    "    'objective': 'regression',  # 目标函数\n",
    "    'metric': {'l2', 'auc'},  # 评估函数\n",
    "    'num_leaves': 31,  # 叶子节点数\n",
    "    'learning_rate': 0.05,  # 学习速率\n",
    "    'feature_fraction': 0.9,  # 建树的特征选择比例\n",
    "    #'bagging_fraction': 0.8,  # 建树的样本采样比例\n",
    "    #'bagging_freq': 5,  # k 意味着每 k 次迭代执行bagging\n",
    "    'verbose': 0  # <0 显示致命的, =0 显示错误 (警告), >0 显示信息\n",
    "}\n",
    "my_model = lgb.train(params, lgb_train, num_boost_round=20, valid_sets=lgb_eval, early_stopping_rounds=5)\n",
    "predictions = my_model.predict(X_test, num_iteration=my_model.best_iteration)\n",
    "print(\"Mean Absolute Error : \" + str(mean_squared_error(predictions, y_test)))"
   ]
  },
  {
   "cell_type": "code",
   "execution_count": null,
   "id": "767215de",
   "metadata": {
    "scrolled": false
   },
   "outputs": [],
   "source": [
    "print(\"Mean Absolute Error of rand prediction: \" + str(mean_squared_error(rand_pred, y_test)))\n",
    "mean_pred = mean_pred = pd.Series([np.mean(y_train)]*y_test.shape[0])\n",
    "print(\"Mean Absolute Error of mean prediction: \" + str(mean_squared_error(mean_pred, y_test)))"
   ]
  },
  {
   "cell_type": "code",
   "execution_count": null,
   "id": "e2c98e94",
   "metadata": {
    "scrolled": false
   },
   "outputs": [],
   "source": [
    "# 线性回归因子重要性分析\n",
    "cols = ['发行价格','预计募资','折扣率','增发占增发后自由流通市值','发行前20日股价涨跌幅',\\\n",
    "                '行业20日涨跌幅','股价','基金占比','前次占比','换手率','净利FY0','PS百分位','PE百分位',\\\n",
    "                '闪发','净利FY1','净利FY2','总市值', '年化收益率']\n",
    "# 机器学习模型的训练集与预测集划分\n",
    "y = df3['年化收益率']\n",
    "cols.pop()\n",
    "X = df3[cols]\n",
    "N_fold = 10\n",
    "params = {\n",
    "    'task': 'train',\n",
    "    'boosting_type': 'goss',  # 设置提升类型\n",
    "    'objective': 'regression',  # 目标函数\n",
    "    'metric': {'l2', 'auc'},  # 评估函数\n",
    "    'num_leaves': 31,  # 叶子节点数\n",
    "    'learning_rate': 0.05,  # 学习速率\n",
    "    'feature_fraction': 0.9,  # 建树的特征选择比例\n",
    "    #'bagging_fraction': 0.8,  # 建树的样本采样比例\n",
    "    #'bagging_freq': 5,  # k 意味着每 k 次迭代执行bagging\n",
    "    'verbose': -1  # <0 显示致命的, =0 显示错误 (警告), >0 显示信息\n",
    "}\n",
    "importances = np.zeros((17,))\n",
    "for i in range(N_fold):\n",
    "    X_train, X_test, y_train, y_test = train_test_split(X, y, test_size=0.1)\n",
    "    lgb_train = lgb.Dataset(X_train, y_train)\n",
    "    lgb_eval = lgb.Dataset(X_test, y_test, reference=lgb_train)\n",
    "    my_model = lgb.train(params, lgb_train, num_boost_round=20, valid_sets=lgb_eval, early_stopping_rounds=5)\n",
    "    importances = my_model.feature_importance() + importances\n",
    "importances = importances/N_fold\n",
    "\n",
    "indices = np.argsort(importances)\n",
    "fig, ax = plt.subplots()\n",
    "ax.barh(range(len(importances)), importances[indices])\n",
    "ax.set_yticks(range(len(importances)))\n",
    "_ = ax.set_yticklabels(np.array(X.columns)[indices])"
   ]
  },
  {
   "cell_type": "markdown",
   "id": "6363ec63",
   "metadata": {},
   "source": [
    "## Shapley重要性"
   ]
  },
  {
   "cell_type": "code",
   "execution_count": null,
   "id": "ea21f777",
   "metadata": {
    "scrolled": true
   },
   "outputs": [],
   "source": [
    "# 线性回归因子重要性分析\n",
    "cols = ['发行价格','预计募资','折扣率','增发占增发后自由流通市值','发行前20日股价涨跌幅',\\\n",
    "                '行业20日涨跌幅','股价','基金占比','前次占比','换手率','净利FY0','PS百分位','PE百分位',\\\n",
    "                '闪发','净利FY1','净利FY2','总市值', '年化收益率']\n",
    "# 机器学习模型的训练集与预测集划分\n",
    "y = df3['年化收益率']\n",
    "cols.pop()\n",
    "X = df3[cols]\n",
    "params = {\n",
    "    'task': 'train',\n",
    "    'boosting_type': 'goss',  # 设置提升类型\n",
    "    'objective': 'regression',  # 目标函数\n",
    "    'metric': {'l2', 'auc'},  # 评估函数\n",
    "    'num_leaves': 31,  # 叶子节点数\n",
    "    'learning_rate': 0.05,  # 学习速率\n",
    "    'feature_fraction': 0.9,  # 建树的特征选择比例\n",
    "    #'bagging_fraction': 0.8,  # 建树的样本采样比例\n",
    "    #'bagging_freq': 5,  # k 意味着每 k 次迭代执行bagging\n",
    "    'verbose': -1  # <0 显示致命的, =0 显示错误 (警告), >0 显示信息\n",
    "}\n",
    "X_train, X_test, y_train, y_test = train_test_split(X, y, test_size=0.1)\n",
    "lgb_train = lgb.Dataset(X_train, y_train)\n",
    "lgb_eval = lgb.Dataset(X_test, y_test, reference=lgb_train)\n",
    "my_model = lgb.train(params, lgb_train, num_boost_round=20, valid_sets=lgb_eval, early_stopping_rounds=5)\n",
    "explainer = shap.Explainer(my_model)\n",
    "shap_values = explainer(X_train)\n",
    "shap.plots.bar(shap_values)"
   ]
  },
  {
   "cell_type": "markdown",
   "id": "23914194",
   "metadata": {},
   "source": [
    "# 交换重要性"
   ]
  },
  {
   "cell_type": "code",
   "execution_count": 26,
   "id": "218472f0",
   "metadata": {},
   "outputs": [],
   "source": [
    "QUANT_FACTOR = ['发行价格','预计募资','增发占增发后自由流通市值','发行前20日股价涨跌幅',\\\n",
    "                '行业20日涨跌幅','股价','基金占比','前次占比','换手率','净利FY0','PS百分位','PE百分位',\\\n",
    "                '闪发','净利FY1','净利FY2','总市值', '年化收益率']\n",
    "CLASS_FACTOR = ['发行月份', '所属行业']"
   ]
  },
  {
   "cell_type": "code",
   "execution_count": 28,
   "id": "fcbdfe16",
   "metadata": {
    "scrolled": true
   },
   "outputs": [
    {
     "name": "stdout",
     "output_type": "stream",
     "text": [
      "[1]\tvalid_0's auc: 1\tvalid_0's l2: 0.81989\n",
      "Training until validation scores don't improve for 5 rounds\n",
      "[2]\tvalid_0's auc: 1\tvalid_0's l2: 0.746376\n",
      "[3]\tvalid_0's auc: 1\tvalid_0's l2: 0.680607\n",
      "[4]\tvalid_0's auc: 1\tvalid_0's l2: 0.619535\n",
      "[5]\tvalid_0's auc: 1\tvalid_0's l2: 0.564307\n",
      "[6]\tvalid_0's auc: 1\tvalid_0's l2: 0.516262\n",
      "Early stopping, best iteration is:\n",
      "[1]\tvalid_0's auc: 1\tvalid_0's l2: 0.81989\n"
     ]
    },
    {
     "name": "stderr",
     "output_type": "stream",
     "text": [
      "Overriding the parameters from Reference Dataset.\n",
      "categorical_column in param dict is overridden.\n"
     ]
    }
   ],
   "source": [
    "y = df['年化收益率']\n",
    "X = df[QUANT_FACTOR+CLASS_FACTOR]\n",
    "params = {\n",
    "    'task': 'train',\n",
    "    'boosting_type': 'goss',  # 设置提升类型\n",
    "    'objective': 'regression',  # 目标函数\n",
    "    'metric': {'l2', 'auc'},  # 评估函数\n",
    "    'num_leaves': 31,  # 叶子节点数\n",
    "    'learning_rate': 0.05,  # 学习速率\n",
    "    'feature_fraction': 0.9,  # 建树的特征选择比例\n",
    "    'verbose': -1  # <0 显示致命的, =0 显示错误 (警告), >0 显示信息\n",
    "}\n",
    "X_train, X_test, y_train, y_test = train_test_split(X, y, test_size=0.1)\n",
    "lgb_train = lgb.Dataset(X_train, y_train)\n",
    "lgb_eval = lgb.Dataset(X_test, y_test, reference=lgb_train)\n",
    "model = lgb.train(params, lgb_train, num_boost_round=270, valid_sets=[lgb_eval], early_stopping_rounds=5)"
   ]
  },
  {
   "cell_type": "code",
   "execution_count": 29,
   "id": "892e3558",
   "metadata": {},
   "outputs": [],
   "source": [
    "def get_score_after_permutation(model, X, y, curr_feat):\n",
    "    \"\"\" return the score of model when curr_feat is permuted \"\"\"\n",
    "\n",
    "    X_permuted = X.copy()\n",
    "    col_idx = list(X.columns).index(curr_feat)\n",
    "    # permute one column\n",
    "    X_permuted.iloc[:, col_idx] = np.random.permutation(\n",
    "        X_permuted[curr_feat].values)\n",
    "    \n",
    "    y_pred = model.predict(X_permuted)\n",
    "    permuted_score = r2_score(y_pred, y)\n",
    "    #permuted_score = model.score(X_permuted, y)\n",
    "    return permuted_score\n",
    "\n",
    "\n",
    "def get_feature_importance(model, X, y, curr_feat):\n",
    "    \"\"\" compare the score when curr_feat is permuted \"\"\"\n",
    "    y_pred = model.predict(X)\n",
    "    baseline_score_train = r2_score(y_pred, y)\n",
    "    #baseline_score_train = model.score(X, y)\n",
    "    permuted_score_train = get_score_after_permutation(model, X, y, curr_feat)\n",
    "\n",
    "    # feature importance is the difference between the two scores\n",
    "    feature_importance = baseline_score_train - permuted_score_train\n",
    "    return feature_importance"
   ]
  },
  {
   "cell_type": "code",
   "execution_count": 30,
   "id": "179ff0fd",
   "metadata": {},
   "outputs": [],
   "source": [
    "def permutation_importance(model, X, y, n_repeats=10):\n",
    "    \"\"\"Calculate importance score for each feature.\"\"\"\n",
    "    importances = []\n",
    "    for curr_feat in X.columns:\n",
    "        list_feature_importance = []\n",
    "        for n_round in range(n_repeats):\n",
    "            list_feature_importance.append(\n",
    "                get_feature_importance(model, X, y, curr_feat))\n",
    "\n",
    "        importances.append(list_feature_importance)\n",
    "\n",
    "    return {'importances_mean': np.mean(importances, axis=1),\n",
    "            'importances_std': np.std(importances, axis=1),\n",
    "            'importances': importances}\n",
    "def plot_feature_importances(perm_importance_result, feat_name):\n",
    "    \"\"\" bar plot the feature importance \"\"\"\n",
    "\n",
    "    fig, ax = plt.subplots()\n",
    "\n",
    "    indices = perm_importance_result['importances_mean'].argsort()\n",
    "    plt.barh(range(len(indices)),\n",
    "             perm_importance_result['importances_mean'][indices])\n",
    "\n",
    "    ax.set_yticks(range(len(indices)))\n",
    "    _ = ax.set_yticklabels(feat_name[indices])"
   ]
  },
  {
   "cell_type": "code",
   "execution_count": null,
   "id": "d04f65ac",
   "metadata": {},
   "outputs": [],
   "source": [
    "perm_importance_result_train = permutation_importance(model, X_train, y_train, n_repeats=10)\n",
    "\n",
    "plot_feature_importances(perm_importance_result_train, X_train.columns)"
   ]
  },
  {
   "cell_type": "markdown",
   "id": "252f18d2",
   "metadata": {},
   "source": [
    "# 二分类预测"
   ]
  },
  {
   "cell_type": "code",
   "execution_count": null,
   "id": "51b390da",
   "metadata": {},
   "outputs": [],
   "source": [
    "from sklearn.metrics import auc, f1_score, roc_auc_score, roc_curve, accuracy_score, recall_score"
   ]
  },
  {
   "cell_type": "code",
   "execution_count": null,
   "id": "1a64c61e",
   "metadata": {},
   "outputs": [],
   "source": [
    "QUANT_FACTOR = ['发行价格','预计募资','增发占增发后自由流通市值','发行前20日股价涨跌幅',\\\n",
    "                '行业20日涨跌幅','股价','基金占比','前次占比','换手率','净利FY0','PS百分位','PE百分位',\\\n",
    "                '闪发','净利FY1','净利FY2','总市值']\n",
    "CLASS_FACTOR = ['发行月份', '所属行业']"
   ]
  },
  {
   "cell_type": "code",
   "execution_count": null,
   "id": "5ba28bc4",
   "metadata": {},
   "outputs": [],
   "source": [
    "data_before_2020 = pd.read_csv('data_before_2020.csv', index_col=0)\n",
    "data_after_2020 = pd.read_csv('data_after_2020.csv',index_col=0)\n",
    "\n",
    "data_before_2020['盈利']= data_before_2020['年化收益率'].apply(lambda x : 1 if x>0 else 0)\n",
    "data_after_2020['盈利']= data_after_2020['年化收益率'].apply(lambda x : 1 if x>0 else 0)\n",
    "data_before_2020[CLASS_FACTOR] = data_before_2020[CLASS_FACTOR].astype('category')\n",
    "data_after_2020[CLASS_FACTOR] = data_after_2020[CLASS_FACTOR].astype('category')"
   ]
  },
  {
   "cell_type": "code",
   "execution_count": null,
   "id": "7f1e9c1e",
   "metadata": {
    "scrolled": false
   },
   "outputs": [],
   "source": [
    "factors = QUANT_FACTOR# + CLASS_FACTOR\n",
    "y_test = data_after_2020['盈利']\n",
    "X_test = data_after_2020[factors]\n",
    "X = data_before_2020[factors]\n",
    "y = data_before_2020['盈利']\n",
    "X_train, X_valid, y_train, y_valid = train_test_split(X, y, test_size=0.1)\n",
    "\n",
    "lgbclf = lgb.LGBMClassifier(boosting_type='goss', max_depth=5, learning_rate=0.05, n_estimators=270,\\\n",
    "                            max_bin=255, objective='binary', colsample_bytree=0.9, n_jobs=4)\n",
    "\n",
    "lgbclf.fit(X_train, y_train, eval_set=(X_valid, y_valid),eval_metric='logloss',\\\n",
    "           early_stopping_rounds=5, verbose=False)\n",
    "y_pred = lgbclf.predict_proba(X_test)[:, 1]\n",
    "y_pred_label = np.array([1 if x > 0.5 else 0 for x in y_pred])\n",
    "\n",
    "fpr, tpr, thresholds = roc_curve(y_test,y_pred)\n",
    "plt.plot(fpr,tpr)\n",
    "plt.plot([0, 1], [0, 1], 'r--')\n",
    "plt.ylabel('TPR')\n",
    "plt.xlabel('FPR')\n",
    "plt.show()\n",
    "\n",
    "print('auc:'+str(auc(fpr, tpr)))\n",
    "print('accuracy:'+str(accuracy_score(y_pred_label, y_test)))\n",
    "print('recall:'+str(recall_score(y_pred_label, y_test)))\n",
    "print('f1_score:'+str(f1_score(y_pred_label, y_test)))"
   ]
  },
  {
   "cell_type": "code",
   "execution_count": null,
   "id": "f24f6bd1",
   "metadata": {},
   "outputs": [],
   "source": [
    "factors = QUANT_FACTOR# + ['折扣率']\n",
    "y_test = data_after_2020['年化收益率']\n",
    "X_test = data_after_2020[factors]\n",
    "X = data_before_2020[factors]\n",
    "y = data_before_2020['年化收益率']\n",
    "X_train, X_valid, y_train, y_valid = train_test_split(X, y, test_size=0.1)\n",
    "\n",
    "lgbrgs = lgb.LGBMRegressor(boosting_type='goss', max_depth=5, learning_rate=0.05, n_estimators=270,\\\n",
    "                            max_bin=255, objective='regression', colsample_bytree=0.9, n_jobs=4)\n",
    "\n",
    "lgbrgs.fit(X_train, y_train, eval_set=(X_valid, y_valid),eval_metric='l2',\\\n",
    "           early_stopping_rounds=5, verbose=False)\n",
    "explainer = shap.Explainer(lgbrgs)\n",
    "shap_values = explainer(X_train)\n",
    "shap.plots.bar(shap_values)"
   ]
  },
  {
   "cell_type": "markdown",
   "id": "ca42ecbb",
   "metadata": {},
   "source": [
    "# 类因子的单方差分析"
   ]
  },
  {
   "cell_type": "code",
   "execution_count": null,
   "id": "12a0345f",
   "metadata": {},
   "outputs": [],
   "source": [
    "\n",
    "RAW_DATA_PATH = '/home/sam/data/定增因子.xlsx'\n",
    "raw_data = pd.read_excel(RAW_DATA_PATH,header=1,index_col=0)\n",
    "anova_df = raw_data[['增发目的', '大股东是否跟投','盈利预测']]\n",
    "return_df = pd.read_csv('clean_continuous_data.csv', index_col=0, header=0)['年化收益率']\n",
    "\n",
    "anova_df = anova_df.join(return_df, how='right')\n",
    "\n",
    "mod = ols('年化收益率 ~ 盈利预测+大股东是否跟投+增发目的', data=anova_df).fit()\n",
    "table = sm.stats.anova_lm(mod, typ=2) # Type 2 Anova DataFrame\n",
    "print(table)"
   ]
  }
 ],
 "metadata": {
  "kernelspec": {
   "display_name": "Python 3 (ipykernel)",
   "language": "python",
   "name": "python3"
  },
  "language_info": {
   "codemirror_mode": {
    "name": "ipython",
    "version": 3
   },
   "file_extension": ".py",
   "mimetype": "text/x-python",
   "name": "python",
   "nbconvert_exporter": "python",
   "pygments_lexer": "ipython3",
   "version": "3.9.15"
  }
 },
 "nbformat": 4,
 "nbformat_minor": 5
}
